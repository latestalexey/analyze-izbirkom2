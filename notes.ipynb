{
 "cells": [
  {
   "cell_type": "code",
   "execution_count": 17,
   "metadata": {
    "collapsed": true
   },
   "outputs": [],
   "source": [
    "%run -n main.py\n",
    "%matplotlib inline\n",
    "%config InlineBackend.figure_format = 'retina'\n",
    "jobs = jobs_manager()"
   ]
  },
  {
   "cell_type": "markdown",
   "metadata": {},
   "source": [
    "# Сбор\n",
    "## Об открытии помещений для голосования\n",
    "Просто список УИКов, чтобы сверяться"
   ]
  },
  {
   "cell_type": "code",
   "execution_count": 366,
   "metadata": {
    "collapsed": false
   },
   "outputs": [],
   "source": [
    "# # fetch_url(OPENED_ROOT_URL);\n",
    "\n",
    "# records0 = list(load_opened_table(OPENED_ROOT_URL))\n",
    "\n",
    "# # for record in log_progress(records0, every=1):\n",
    "# #     fetch_url(record.url)\n",
    "\n",
    "# records1 = []\n",
    "# for record in log_progress(records0, every=10):\n",
    "#     records1.extend(load_opened_table(record.url))\n",
    "\n",
    "# # for record in log_progress(records1, every=1):\n",
    "# #     fetch_url(record.url)\n",
    "\n",
    "# records2 = []\n",
    "# for record in log_progress(records1, every=10):\n",
    "#     records2.extend(load_opened_table(record.url))\n",
    "\n",
    "# # for record in log_progress(records2, every=1):\n",
    "# #     fetch_url(record.url)\n",
    "\n",
    "# records3 = []\n",
    "# for record in log_progress(records2, every=10):\n",
    "#     records3.extend(load_opened_table(record.url))"
   ]
  },
  {
   "cell_type": "code",
   "execution_count": 367,
   "metadata": {
    "collapsed": false
   },
   "outputs": [],
   "source": [
    "# # for record in log_progress(records3, every=1):\n",
    "# #     fetch_url(record.url)\n",
    "\n",
    "# urls = {_.ik for _ in records3}\n",
    "# mapping = {_: load_regional_ik_url(_) for _ in log_progress(urls, every=10)}"
   ]
  },
  {
   "cell_type": "code",
   "execution_count": 368,
   "metadata": {
    "collapsed": false
   },
   "outputs": [],
   "source": [
    "# %run -n main.py\n",
    "# opened = list(make_opened([records0, records1, records2, records3], mapping))"
   ]
  },
  {
   "cell_type": "markdown",
   "metadata": {},
   "source": [
    "## Избирательные комиссии"
   ]
  },
  {
   "cell_type": "code",
   "execution_count": 328,
   "metadata": {
    "collapsed": false
   },
   "outputs": [],
   "source": [
    "# %run -n main.py\n",
    "# regions = {_.ik for _ in opened if _.ik is not None}\n",
    "# # for region in log_progress(regions, every=1):\n",
    "# #     url = get_ik_tree_url(region)\n",
    "# #     fetch_json(url)\n",
    "\n",
    "# records0 = []\n",
    "# for region in regions:\n",
    "#     records0.extend(load_ik_tree(region))\n",
    "    \n",
    "# records = [_ for _ in records0 if _.parent is not None]\n",
    "# # for record in log_progress(records, every=1):\n",
    "# #     url = get_ik_tree_url(record.region, record.id)\n",
    "# #     fetch_json(url)\n",
    "\n",
    "# records1 = []\n",
    "# for record in log_progress(records, every=100):\n",
    "#     records1.extend(load_ik_tree(record.region, id=record.id))\n",
    "    \n",
    "# # for record in log_progress(records1, every=10):\n",
    "# #     url = get_ik_url(record.region, record.id)\n",
    "# #     fetch_url(url)"
   ]
  },
  {
   "cell_type": "code",
   "execution_count": 329,
   "metadata": {
    "collapsed": true
   },
   "outputs": [],
   "source": [
    "# ik_tree = records0 + records1\n",
    "# we will use hierarchy from opened\n",
    "# # ik_tree = records1"
   ]
  },
  {
   "cell_type": "code",
   "execution_count": 13,
   "metadata": {
    "collapsed": false
   },
   "outputs": [],
   "source": [
    "# for record in log_progress(ik_tree, every=10):\n",
    "#     convert_ik(record.region, record.id)\n",
    "# # ik_pages = [load_ik(_.region, _.id) for _ in log_progress(ik_tree, every=1000)]"
   ]
  },
  {
   "cell_type": "code",
   "execution_count": 179,
   "metadata": {
    "collapsed": false
   },
   "outputs": [],
   "source": [
    "# urls = {get_geocode_url(_.address) for _ in ik_pages}\n",
    "# cache = set(list_json_cache())\n",
    "# fetch_jsons(log_progress(urls - cache | errors, every=1))"
   ]
  },
  {
   "cell_type": "code",
   "execution_count": 180,
   "metadata": {
    "collapsed": false
   },
   "outputs": [],
   "source": [
    "# %run -n main.py\n",
    "# addresses = {}\n",
    "# errors = set()\n",
    "# for record in log_progress(ik_pages, every=1000):\n",
    "#     address = record.address\n",
    "#     url = get_geocode_url(address)\n",
    "#     data = load_json(url)\n",
    "#     if 'error' in data:\n",
    "#         errors.add(url)"
   ]
  },
  {
   "cell_type": "code",
   "execution_count": 398,
   "metadata": {
    "collapsed": false
   },
   "outputs": [],
   "source": [
    "# %run -n main.py\n",
    "# address_coordinates = {}\n",
    "# for record in log_progress(ik_pages, every=1000):\n",
    "#     address = record.address\n",
    "#     address_coordinates[address] = load_coordinates(address)"
   ]
  },
  {
   "cell_type": "code",
   "execution_count": 620,
   "metadata": {
    "collapsed": false
   },
   "outputs": [],
   "source": [
    "\n",
    "# uiks = list(make_uiks(opened, ik_tree, ik_pages, address_coordinates))"
   ]
  },
  {
   "cell_type": "code",
   "execution_count": 621,
   "metadata": {
    "collapsed": false
   },
   "outputs": [],
   "source": [
    "# dump_uiks(uiks)\n",
    "uiks = list(load_uiks())"
   ]
  },
  {
   "cell_type": "markdown",
   "metadata": {},
   "source": [
    "## Сведения о кандидатах, выдвинутых по одномандатным избирательным округам"
   ]
  },
  {
   "cell_type": "code",
   "execution_count": 27,
   "metadata": {
    "collapsed": false
   },
   "outputs": [],
   "source": [
    "# for page in log_progress(range(1, ODNOMANDAT_SERPS_COUNT + 1), every=1):\n",
    "#     url = get_odnomandat_serp_url(page)\n",
    "#     fetch_url(url)"
   ]
  },
  {
   "cell_type": "code",
   "execution_count": 567,
   "metadata": {
    "collapsed": false
   },
   "outputs": [],
   "source": [
    "# odnomandats = []\n",
    "# for page in log_progress(range(1, ODNOMANDAT_SERPS_COUNT + 1), every=10):\n",
    "#     odnomandats.extend(load_odnomandat_serp(page))"
   ]
  },
  {
   "cell_type": "code",
   "execution_count": 624,
   "metadata": {
    "collapsed": true
   },
   "outputs": [],
   "source": [
    "# dump_odnomandats(odnomandats)"
   ]
  },
  {
   "cell_type": "code",
   "execution_count": 632,
   "metadata": {
    "collapsed": false
   },
   "outputs": [],
   "source": [
    "odnomandats = list(load_odnomandats())"
   ]
  },
  {
   "cell_type": "markdown",
   "metadata": {},
   "source": [
    "## Предварительные итоги голосования по одномандатному избирательному округу"
   ]
  },
  {
   "cell_type": "code",
   "execution_count": 452,
   "metadata": {
    "collapsed": true
   },
   "outputs": [],
   "source": [
    "# # fetch_url(ODNOMANDAT_RESULS_ROOT_URL);\n",
    "\n",
    "# records0 = list(load_results_tree_node(ODNOMANDAT_RESULS_ROOT_URL))\n",
    "\n",
    "# # for record in log_progress(records0, every=1):\n",
    "# #     fetch_url(record.url)\n",
    "\n",
    "# records1 = []\n",
    "# for record in log_progress(records0, every=10):\n",
    "#     records1.extend(load_results_tree_node(record.url))\n",
    "\n",
    "# # for record in log_progress(records1, every=1):\n",
    "# #     fetch_url(record.url)\n",
    "\n",
    "# records2 = []\n",
    "# for record in log_progress(records1, every=10):\n",
    "#     records2.extend(load_results_tree_node(record.url))\n",
    "\n",
    "# # for record in log_progress(records2, every=1):\n",
    "# #     fetch_url(record.url)\n",
    "\n",
    "# records3 = []\n",
    "# for record in log_progress(records2, every=10):\n",
    "#     records3.extend(load_results_tree_node(record.url))\n",
    "\n",
    "# for record in log_progress(records3, every=1):\n",
    "#     fetch_url(record.url)"
   ]
  },
  {
   "cell_type": "code",
   "execution_count": 461,
   "metadata": {
    "collapsed": false,
    "scrolled": false
   },
   "outputs": [],
   "source": [
    "# raw_odnomandat_cells = []\n",
    "# for record in log_progress(records3, every=1):\n",
    "#     raw_odnomandat_cells.extend(load_results_table(record.url))"
   ]
  },
  {
   "cell_type": "code",
   "execution_count": 658,
   "metadata": {
    "collapsed": false
   },
   "outputs": [],
   "source": [
    "# odnomandat_cells = list(make_odnomandat_cells(uiks, odnomandats, log_progress(raw_odnomandat_cells, every=10000)))"
   ]
  },
  {
   "cell_type": "code",
   "execution_count": 659,
   "metadata": {
    "collapsed": false
   },
   "outputs": [],
   "source": [
    "# dump_odnomandat_cells(odnomandat_cells)"
   ]
  },
  {
   "cell_type": "code",
   "execution_count": 660,
   "metadata": {
    "collapsed": false
   },
   "outputs": [],
   "source": [
    "odnomandat_cells = list(load_odnomandat_cells())"
   ]
  },
  {
   "cell_type": "markdown",
   "metadata": {},
   "source": [
    "# Предварительные итоги голосования по федеральному избирательному округу"
   ]
  },
  {
   "cell_type": "code",
   "execution_count": 523,
   "metadata": {
    "collapsed": true
   },
   "outputs": [],
   "source": [
    "# # fetch_url(PARTY_RESULTS_ROOT_URL);\n",
    "# records0 = list(load_results_tree_node(PARTY_RESULTS_ROOT_URL))\n",
    "\n",
    "# # for record in log_progress(records0, every=1):\n",
    "# #     fetch_url(record.url)\n",
    "\n",
    "# records1 = []\n",
    "# for record in log_progress(records0, every=10):\n",
    "#     records1.extend(load_results_tree_node(record.url))\n",
    "\n",
    "# # for record in log_progress(records1, every=1):\n",
    "# #     fetch_url(record.url)\n",
    "\n",
    "# records2 = []\n",
    "# for record in log_progress(records1, every=10):\n",
    "#     records2.extend(load_results_tree_node(record.url))\n",
    "\n",
    "# # for record in log_progress(records2, every=1):\n",
    "# #     fetch_url(record.url)\n",
    "\n",
    "# records3 = []\n",
    "# for record in log_progress(records2, every=10):\n",
    "#     records3.extend(load_results_tree_node(record.url))\n",
    "\n",
    "# for record in log_progress(records3, every=1):\n",
    "#     fetch_url(record.url)"
   ]
  },
  {
   "cell_type": "code",
   "execution_count": 661,
   "metadata": {
    "collapsed": true
   },
   "outputs": [],
   "source": [
    "# raw_party_cells = []\n",
    "# for record in log_progress(records3, every=1):\n",
    "#     raw_party_cells.extend(load_results_table(record.url))"
   ]
  },
  {
   "cell_type": "code",
   "execution_count": 662,
   "metadata": {
    "collapsed": false
   },
   "outputs": [],
   "source": [
    "# party_cells = list(make_party_cells(uiks, log_progress(raw_party_cells, every=10000)))"
   ]
  },
  {
   "cell_type": "code",
   "execution_count": 663,
   "metadata": {
    "collapsed": false
   },
   "outputs": [],
   "source": [
    "# dump_party_cells(party_cells)"
   ]
  },
  {
   "cell_type": "code",
   "execution_count": 657,
   "metadata": {
    "collapsed": false
   },
   "outputs": [
    {
     "data": {
      "text/plain": [
       "True"
      ]
     },
     "execution_count": 657,
     "metadata": {},
     "output_type": "execute_result"
    }
   ],
   "source": [
    "party_cells = list(load_party_cells())"
   ]
  },
  {
   "cell_type": "code",
   "execution_count": 664,
   "metadata": {
    "collapsed": true
   },
   "outputs": [],
   "source": [
    "counts = Counter()\n",
    "for record in party_cells:\n",
    "    if record.row_id > 18:\n",
    "        counts[record.row_id] += record.value"
   ]
  },
  {
   "cell_type": "code",
   "execution_count": 670,
   "metadata": {
    "collapsed": true
   },
   "outputs": [],
   "source": [
    "counts = defaultdict(Counter)\n",
    "mapping = {_.id: _ for _ in odnomandats}\n",
    "for record in odnomandat_cells:\n",
    "    if record.row_id > 18:\n",
    "        odnomandat = mapping[record.row_id]\n",
    "        counts[odnomandat.oik][odnomandat.fio, odnomandat.party_id] += record.value"
   ]
  },
  {
   "cell_type": "code",
   "execution_count": 679,
   "metadata": {
    "collapsed": false,
    "scrolled": false
   },
   "outputs": [],
   "source": [
    "count = Counter()\n",
    "for oik in counts:\n",
    "    ((fio, party_id), _), = counts[oik].most_common(1)\n",
    "    count[party_id] += 1\n",
    "#     print oik\n",
    "#     for (fio, party_id), count in counts[oik].most_common(10):\n",
    "#         print '\\t', party_id, '\\t', fio, '\\t', count\n"
   ]
  },
  {
   "cell_type": "code",
   "execution_count": 682,
   "metadata": {
    "collapsed": false
   },
   "outputs": [
    {
     "data": {
      "text/plain": [
       "96892"
      ]
     },
     "execution_count": 682,
     "metadata": {},
     "output_type": "execute_result"
    }
   ],
   "source": [
    "len([_ for _ in opened if _.level == 3])"
   ]
  },
  {
   "cell_type": "code",
   "execution_count": 683,
   "metadata": {
    "collapsed": false
   },
   "outputs": [
    {
     "data": {
      "text/plain": [
       "96892"
      ]
     },
     "execution_count": 683,
     "metadata": {},
     "output_type": "execute_result"
    }
   ],
   "source": [
    "len(uiks)"
   ]
  },
  {
   "cell_type": "code",
   "execution_count": null,
   "metadata": {
    "collapsed": true
   },
   "outputs": [],
   "source": []
  }
 ],
 "metadata": {
  "kernelspec": {
   "display_name": "Python 2",
   "language": "python",
   "name": "python2"
  },
  "language_info": {
   "codemirror_mode": {
    "name": "ipython",
    "version": 2
   },
   "file_extension": ".py",
   "mimetype": "text/x-python",
   "name": "python",
   "nbconvert_exporter": "python",
   "pygments_lexer": "ipython2",
   "version": "2.7.10"
  }
 },
 "nbformat": 4,
 "nbformat_minor": 0
}
